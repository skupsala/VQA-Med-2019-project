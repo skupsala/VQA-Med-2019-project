{
 "cells": [
  {
   "cell_type": "code",
   "execution_count": 1,
   "id": "cc022138",
   "metadata": {},
   "outputs": [],
   "source": [
    "%load_ext autoreload\n",
    "%autoreload 2"
   ]
  },
  {
   "cell_type": "code",
   "execution_count": 2,
   "id": "d369b1b8",
   "metadata": {},
   "outputs": [],
   "source": [
    "import os\n",
    "import sys\n",
    "path_to_src = os.path.join(os.path.abspath(''), os.pardir, 'src')\n",
    "path_to_data = os.path.join(os.path.abspath(''), os.pardir, 'data')\n",
    "sys.path.append(path_to_src)"
   ]
  },
  {
   "cell_type": "code",
   "execution_count": 3,
   "id": "92e10194",
   "metadata": {},
   "outputs": [],
   "source": [
    "from dataloader import read_qa_by_category"
   ]
  },
  {
   "cell_type": "code",
   "execution_count": 4,
   "id": "18b01611",
   "metadata": {},
   "outputs": [],
   "source": [
    "df = read_qa_by_category(os.path.join(path_to_data, \"ImageClef-2019-VQA-Med-Training/QAPairsByCategory\"))"
   ]
  },
  {
   "cell_type": "code",
   "execution_count": 5,
   "id": "5ccb66c8",
   "metadata": {},
   "outputs": [
    {
     "data": {
      "text/html": [
       "<div>\n",
       "<style scoped>\n",
       "    .dataframe tbody tr th:only-of-type {\n",
       "        vertical-align: middle;\n",
       "    }\n",
       "\n",
       "    .dataframe tbody tr th {\n",
       "        vertical-align: top;\n",
       "    }\n",
       "\n",
       "    .dataframe thead th {\n",
       "        text-align: right;\n",
       "    }\n",
       "</style>\n",
       "<table border=\"1\" class=\"dataframe\">\n",
       "  <thead>\n",
       "    <tr style=\"text-align: right;\">\n",
       "      <th></th>\n",
       "      <th>image_id</th>\n",
       "      <th>question</th>\n",
       "      <th>answer</th>\n",
       "      <th>category</th>\n",
       "    </tr>\n",
       "  </thead>\n",
       "  <tbody>\n",
       "    <tr>\n",
       "      <th>0</th>\n",
       "      <td>synpic41148</td>\n",
       "      <td>what kind of image is this?</td>\n",
       "      <td>cta - ct angiography</td>\n",
       "      <td>modality</td>\n",
       "    </tr>\n",
       "    <tr>\n",
       "      <th>1</th>\n",
       "      <td>synpic43984</td>\n",
       "      <td>is this a t1 weighted image?</td>\n",
       "      <td>no</td>\n",
       "      <td>modality</td>\n",
       "    </tr>\n",
       "    <tr>\n",
       "      <th>2</th>\n",
       "      <td>synpic38930</td>\n",
       "      <td>what type of imaging modality is used to acqui...</td>\n",
       "      <td>us - ultrasound</td>\n",
       "      <td>modality</td>\n",
       "    </tr>\n",
       "    <tr>\n",
       "      <th>3</th>\n",
       "      <td>synpic52143</td>\n",
       "      <td>is this a noncontrast mri?</td>\n",
       "      <td>no</td>\n",
       "      <td>modality</td>\n",
       "    </tr>\n",
       "    <tr>\n",
       "      <th>4</th>\n",
       "      <td>synpic20934</td>\n",
       "      <td>what type of image modality is this?</td>\n",
       "      <td>xr - plain film</td>\n",
       "      <td>modality</td>\n",
       "    </tr>\n",
       "  </tbody>\n",
       "</table>\n",
       "</div>"
      ],
      "text/plain": [
       "      image_id                                           question  \\\n",
       "0  synpic41148                        what kind of image is this?   \n",
       "1  synpic43984                       is this a t1 weighted image?   \n",
       "2  synpic38930  what type of imaging modality is used to acqui...   \n",
       "3  synpic52143                         is this a noncontrast mri?   \n",
       "4  synpic20934               what type of image modality is this?   \n",
       "\n",
       "                 answer  category  \n",
       "0  cta - ct angiography  modality  \n",
       "1                    no  modality  \n",
       "2       us - ultrasound  modality  \n",
       "3                    no  modality  \n",
       "4       xr - plain film  modality  "
      ]
     },
     "execution_count": 5,
     "metadata": {},
     "output_type": "execute_result"
    }
   ],
   "source": [
    "df.head()"
   ]
  }
 ],
 "metadata": {
  "kernelspec": {
   "display_name": "Python 3",
   "language": "python",
   "name": "python3"
  },
  "language_info": {
   "codemirror_mode": {
    "name": "ipython",
    "version": 3
   },
   "file_extension": ".py",
   "mimetype": "text/x-python",
   "name": "python",
   "nbconvert_exporter": "python",
   "pygments_lexer": "ipython3",
   "version": "3.6.9"
  }
 },
 "nbformat": 4,
 "nbformat_minor": 5
}
